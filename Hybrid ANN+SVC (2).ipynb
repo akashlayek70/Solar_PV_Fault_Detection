{
 "cells": [
  {
   "cell_type": "code",
   "execution_count": 1,
   "id": "5d3a2a7a",
   "metadata": {},
   "outputs": [],
   "source": [
    "import pandas as pd\n",
    "import numpy as np\n",
    "from sklearn.model_selection import train_test_split, GridSearchCV\n",
    "from sklearn.preprocessing import StandardScaler\n",
    "from sklearn.svm import SVC\n",
    "from sklearn.metrics import accuracy_score, f1_score, confusion_matrix, classification_report\n",
    "import tensorflow as tf\n",
    "from tensorflow.keras.models import Sequential, Model\n",
    "from tensorflow.keras.layers import Dense, Dropout, BatchNormalization\n",
    "from tensorflow.keras.callbacks import EarlyStopping"
   ]
  },
  {
   "cell_type": "code",
   "execution_count": 2,
   "id": "91277c06",
   "metadata": {},
   "outputs": [],
   "source": [
    "# 1. Load and prepare dataset\n",
    "df = pd.read_csv(\"Realistic_Solar_PV_Fault_100k.csv\")\n",
    "\n",
    "X = df.drop(columns=[\"Fault_Flag\", \"DHI (W/m²)\", \"Sun_Azimuth (degrees)\", \n",
    "                     \"Solar_Elevation (degrees)\", \"Panel_Orientation (degrees)\", \n",
    "                     \"Longitude\", \"Latitude\", \"Panel_Tilt (degrees)\"])\n",
    "y = df[\"Fault_Flag\"]"
   ]
  },
  {
   "cell_type": "code",
   "execution_count": 3,
   "id": "ab0e1688",
   "metadata": {},
   "outputs": [],
   "source": [
    "# 2. Train-test split and scale\n",
    "X_train, X_test, y_train, y_test = train_test_split(X, y, stratify=y, test_size=0.2, random_state=42)\n",
    "scaler = StandardScaler()\n",
    "X_train_scaled = scaler.fit_transform(X_train)\n",
    "X_test_scaled = scaler.transform(X_test)\n",
    "\n",
    "# 3. Improved ANN\n",
    "ann = Sequential([\n",
    "    Dense(128, activation='relu', input_shape=(X_train_scaled.shape[1],)),\n",
    "    BatchNormalization(),\n",
    "    Dropout(0.3),\n",
    "    Dense(64, activation='relu'),\n",
    "    BatchNormalization(),\n",
    "    Dropout(0.3),\n",
    "    Dense(32, activation='relu'),\n",
    "    Dense(1, activation='sigmoid')\n",
    "])\n",
    "\n",
    "ann.compile(optimizer='adam', loss='binary_crossentropy', metrics=['accuracy'])\n",
    "\n",
    "# Early stopping to avoid overfitting\n",
    "es = EarlyStopping(monitor='val_loss', patience=10, restore_best_weights=True)\n",
    "\n",
    "ann.fit(X_train_scaled, y_train, validation_split=0.2, epochs=200, batch_size=64, verbose=0, callbacks=[es])\n",
    "\n",
    "# 4. Extract deep features\n",
    "feature_model = Model(inputs=ann.input, outputs=ann.layers[-2].output)\n",
    "X_train_deep = feature_model.predict(X_train_scaled)\n",
    "X_test_deep = feature_model.predict(X_test_scaled)\n",
    "\n",
    "# Optional: Combine raw + deep features (can improve performance)\n",
    "X_train_combined = np.hstack([X_train_scaled, X_train_deep])\n",
    "X_test_combined = np.hstack([X_test_scaled, X_test_deep])\n",
    "\n",
    "# 5. Hyperparameter tuning for SVC\n",
    "param_grid = {\n",
    "    'C': [0.1, 1, 10],\n",
    "    'gamma': ['scale', 0.01, 0.1, 1],\n",
    "    'kernel': ['rbf']\n",
    "}\n",
    "svc = GridSearchCV(SVC(), param_grid, cv=3, scoring='f1', n_jobs=-1)\n",
    "svc.fit(X_train_combined, y_train)\n",
    "\n",
    "# 6. Predict and evaluate\n",
    "svc_preds = svc.predict(X_test_combined)"
   ]
  },
  {
   "cell_type": "code",
   "execution_count": 10,
   "id": "433a6046",
   "metadata": {},
   "outputs": [
    {
     "name": "stdout",
     "output_type": "stream",
     "text": [
      "🔍 Hybrid ANN + SVC (Improved) Results:\n",
      "Best SVC Params: {'C': 10, 'gamma': 0.01, 'kernel': 'rbf'}\n",
      "Accuracy: 0.9801\n",
      "F1 Score: 0.8971044467425027\n",
      "\n",
      "Confusion Matrix:\n",
      "[[17867   133]\n",
      " [  265  1735]]\n",
      "\n",
      "Classification Report:\n",
      "              precision    recall  f1-score   support\n",
      "\n",
      "           0       0.99      0.99      0.99     18000\n",
      "           1       0.93      0.87      0.90      2000\n",
      "\n",
      "    accuracy                           0.98     20000\n",
      "   macro avg       0.96      0.93      0.94     20000\n",
      "weighted avg       0.98      0.98      0.98     20000\n",
      "\n"
     ]
    }
   ],
   "source": [
    "print(\"🔍 Hybrid ANN + SVC (Improved) Results:\")\n",
    "print(\"Best SVC Params:\", svc.best_params_)\n",
    "print(\"Accuracy:\", accuracy_score(y_test, svc_preds))\n",
    "print(\"F1 Score:\", f1_score(y_test, svc_preds))\n",
    "print(\"\\nConfusion Matrix:\")\n",
    "print(confusion_matrix(y_test, svc_preds))\n",
    "print(\"\\nClassification Report:\")\n",
    "print(classification_report(y_test, svc_preds))"
   ]
  },
  {
   "cell_type": "code",
   "execution_count": null,
   "id": "1d2af8fd",
   "metadata": {},
   "outputs": [],
   "source": []
  }
 ],
 "metadata": {
  "kernelspec": {
   "display_name": "Python 3 (ipykernel)",
   "language": "python",
   "name": "python3"
  },
  "language_info": {
   "codemirror_mode": {
    "name": "ipython",
    "version": 3
   },
   "file_extension": ".py",
   "mimetype": "text/x-python",
   "name": "python",
   "nbconvert_exporter": "python",
   "pygments_lexer": "ipython3",
   "version": "3.11.5"
  }
 },
 "nbformat": 4,
 "nbformat_minor": 5
}
